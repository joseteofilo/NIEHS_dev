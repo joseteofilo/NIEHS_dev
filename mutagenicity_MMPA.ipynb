{
 "cells": [
  {
   "cell_type": "code",
   "execution_count": 2,
   "id": "5f965de9",
   "metadata": {},
   "outputs": [],
   "source": [
    "import time\n",
    "import requests\n",
    "import pandas as pd\n",
    "from rdkit import Chem"
   ]
  },
  {
   "cell_type": "markdown",
   "id": "ecb80abe",
   "metadata": {},
   "source": [
    "# Try 1"
   ]
  },
  {
   "cell_type": "code",
   "execution_count": 29,
   "id": "01b25dfc",
   "metadata": {},
   "outputs": [],
   "source": [
    "def get_pubchem_cid(name):\n",
    "    url = 'https://pubchem.ncbi.nlm.nih.gov/rest/pug/compound/name/{}/cids/json'.format( name )\n",
    "    json_pubchem = requests.get(url, timeout=120).json()\n",
    "    if \"IdentifierList\" in json_pubchem:\n",
    "        cid = {\"cid\":[json_pubchem['IdentifierList'][\"CID\"][0]]}\n",
    "        data = pd.DataFrame(cid)\n",
    "    else:\n",
    "        data = pd.DataFrame({'cid' : []})\n",
    "        data['cid'] = '' \n",
    "    return data"
   ]
  },
  {
   "cell_type": "code",
   "execution_count": 52,
   "id": "81787cd8",
   "metadata": {},
   "outputs": [],
   "source": [
    "#name_list = pd.read_csv(\"data.csv\")\n",
    "#name_list = name_list['Name']\n",
    "name_list = [\"aspirin\", \"asdf\"]\n",
    "list_cids = []\n",
    "for name in name_list:\n",
    "    data = get_pubchem_cid(name)\n",
    "    list_cids.append( data.cid )"
   ]
  },
  {
   "cell_type": "code",
   "execution_count": 53,
   "id": "fc3cb231",
   "metadata": {},
   "outputs": [],
   "source": [
    "data['test'] = list_cids"
   ]
  },
  {
   "cell_type": "markdown",
   "id": "4a03dfd0",
   "metadata": {},
   "source": [
    "# Try 2 - correct"
   ]
  },
  {
   "cell_type": "code",
   "execution_count": 58,
   "id": "d7cc75bd",
   "metadata": {},
   "outputs": [],
   "source": [
    "def get_pubchem_cid(name):\n",
    "    url = 'https://pubchem.ncbi.nlm.nih.gov/rest/pug/compound/name/{}/cids/json'.format( name )\n",
    "    json_pubchem = requests.get(url, timeout=120).json()\n",
    "    if \"IdentifierList\" in json_pubchem:\n",
    "        cid = json_pubchem['IdentifierList'][\"CID\"][0]\n",
    "        \n",
    "    else:\n",
    "        \n",
    "        cid = '' \n",
    "    return cid"
   ]
  },
  {
   "cell_type": "code",
   "execution_count": 61,
   "id": "b2d84b2c",
   "metadata": {},
   "outputs": [],
   "source": [
    "name_list = [\"aspirin\", \"asdf\"]\n",
    "list_cids = []\n",
    "for name in name_list:\n",
    "    data = get_pubchem_cid(name)\n",
    "    list_cids.append( data )"
   ]
  },
  {
   "cell_type": "code",
   "execution_count": 65,
   "id": "3be3584f",
   "metadata": {},
   "outputs": [],
   "source": [
    "data = pd.DataFrame(list_cids, columns=[\"cid\"])"
   ]
  },
  {
   "cell_type": "code",
   "execution_count": null,
   "id": "47e8c6ae",
   "metadata": {},
   "outputs": [],
   "source": []
  }
 ],
 "metadata": {
  "kernelspec": {
   "display_name": "Python 3",
   "language": "python",
   "name": "python3"
  },
  "language_info": {
   "codemirror_mode": {
    "name": "ipython",
    "version": 3
   },
   "file_extension": ".py",
   "mimetype": "text/x-python",
   "name": "python",
   "nbconvert_exporter": "python",
   "pygments_lexer": "ipython3",
   "version": "3.9.7"
  }
 },
 "nbformat": 4,
 "nbformat_minor": 5
}
