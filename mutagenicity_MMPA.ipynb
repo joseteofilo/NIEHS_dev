{
 "cells": [
  {
   "cell_type": "code",
   "execution_count": 2,
   "id": "5f965de9",
   "metadata": {},
   "outputs": [],
   "source": [
    "import time\n",
    "import requests\n",
    "import pandas as pd\n",
    "from rdkit import Chem"
   ]
  },
  {
   "cell_type": "code",
   "execution_count": null,
   "id": "54c17d15",
   "metadata": {},
   "outputs": [],
   "source": [
    "def get_pubchem_cid_name(smiles):\n",
    "    #convert to InchiKey\n",
    "    inchikey = Chem.MolToInchiKey( Chem.MolFromSmiles( smiles )  )\n",
    "    #pegar info com nome\n",
    "    try:\n",
    "        try: \n",
    "            #print(inchikey )\n",
    "            url = 'https://pubchem.ncbi.nlm.nih.gov/rest/pug/compound/inchikey/{}/synonyms/json'.format( inchikey )\n",
    "            json_pubchem = requests.get(url, timeout=120).json()\n",
    "            data = pd.concat({k: pd.DataFrame(v).T for k, v in json_pubchem['InformationList'].items()}, axis=0)\n",
    "            #limpar bagunça de multindex\n",
    "            data = data.droplevel(0)\n",
    "            data = data[0]\n",
    "            data['Synonym'] = data.Synonym[0].lower()\n",
    "            time.sleep(2)\n",
    "            print('Sucesso para {}'.format( smiles ) )\n",
    "        except:\n",
    "            #print(inchikey )\n",
    "            url = 'https://pubchem.ncbi.nlm.nih.gov/rest/pug/compound/inchikey/{}/property/CanonicalSMILES/json'.format( inchikey )\n",
    "            json_pubchem = requests.get(url, timeout=120).json()\n",
    "            data = pd.concat({k: pd.DataFrame(v).T for k, v in json_pubchem['PropertyTable'].items()}, axis=0)\n",
    "            #limpar bagunça de multindex\n",
    "            data = data.droplevel(0)\n",
    "            data = data[0]\n",
    "            data['Synonym'] = ''  \n",
    "            time.sleep(2)\n",
    "            print('Sucesso para {} (sem nome)'.format( smiles ) )\n",
    "    except:\n",
    "        print('Sem informação para {}'.format( smiles ) )\n",
    "        data = pd.DataFrame({'CID' : [], 'Synonym' : []})\n",
    "        data['CID'] = ''  \n",
    "        data['Synonym'] = ''  \n",
    "    return  data"
   ]
  },
  {
   "cell_type": "code",
   "execution_count": 8,
   "id": "704485e0",
   "metadata": {},
   "outputs": [
    {
     "ename": "IndentationError",
     "evalue": "unexpected unindent (<ipython-input-8-56f859e78e43>, line 15)",
     "output_type": "error",
     "traceback": [
      "\u001b[1;36m  File \u001b[1;32m\"<ipython-input-8-56f859e78e43>\"\u001b[1;36m, line \u001b[1;32m15\u001b[0m\n\u001b[1;33m    except:\u001b[0m\n\u001b[1;37m    ^\u001b[0m\n\u001b[1;31mIndentationError\u001b[0m\u001b[1;31m:\u001b[0m unexpected unindent\n"
     ]
    }
   ],
   "source": [
    "def get_pubchem_cid_name(name):\n",
    "\n",
    "    try:\n",
    "        try: \n",
    "            #print(inchikey )\n",
    "            url = 'https://pubchem.ncbi.nlm.nih.gov/rest/pug/compound/name/{}/cids/json'.format( name )\n",
    "            json_pubchem = requests.get(url, timeout=120).json()\n",
    "            data = pd.concat({k: pd.DataFrame(v).T for k, v in json_pubchem['InformationList'].items()}, axis=0)\n",
    "            #limpar bagunça de multindex\n",
    "            data = data.droplevel(0)\n",
    "            data = data[0]\n",
    "            data['cids'] = data.cids[0].lower()\n",
    "            time.sleep(2)\n",
    "            print('Sucesso para {}'.format( name ) )\n",
    "        \n",
    "        \n",
    "    except:\n",
    "        print('Sem informação para {}'.format( name ) )\n",
    "    #    data = pd.DataFrame({'name' : [], 'Synonym' : []})\n",
    "        #data['cids'] = ''  \n",
    "    return  data"
   ]
  },
  {
   "cell_type": "code",
   "execution_count": 7,
   "id": "c8439b1d",
   "metadata": {},
   "outputs": [
    {
     "name": "stdout",
     "output_type": "stream",
     "text": [
      "Sem informação para aspirin\n"
     ]
    },
    {
     "ename": "UnboundLocalError",
     "evalue": "local variable 'data' referenced before assignment",
     "output_type": "error",
     "traceback": [
      "\u001b[1;31m---------------------------------------------------------------------------\u001b[0m",
      "\u001b[1;31mUnboundLocalError\u001b[0m                         Traceback (most recent call last)",
      "\u001b[1;32m<ipython-input-7-a08f907d129f>\u001b[0m in \u001b[0;36m<module>\u001b[1;34m\u001b[0m\n\u001b[0;32m      1\u001b[0m \u001b[0mname\u001b[0m \u001b[1;33m=\u001b[0m \u001b[1;34m\"aspirin\"\u001b[0m\u001b[1;33m\u001b[0m\u001b[1;33m\u001b[0m\u001b[0m\n\u001b[1;32m----> 2\u001b[1;33m \u001b[0mget_pubchem_cid_name\u001b[0m\u001b[1;33m(\u001b[0m\u001b[0mname\u001b[0m\u001b[1;33m)\u001b[0m\u001b[1;33m\u001b[0m\u001b[1;33m\u001b[0m\u001b[0m\n\u001b[0m",
      "\u001b[1;32m<ipython-input-6-3c089157cdf3>\u001b[0m in \u001b[0;36mget_pubchem_cid_name\u001b[1;34m(name)\u001b[0m\n\u001b[0;32m     17\u001b[0m     \u001b[1;31m#    data = pd.DataFrame({'name' : [], 'Synonym' : []})\u001b[0m\u001b[1;33m\u001b[0m\u001b[1;33m\u001b[0m\u001b[0m\n\u001b[0;32m     18\u001b[0m         \u001b[1;31m#data['cids'] = ''\u001b[0m\u001b[1;33m\u001b[0m\u001b[1;33m\u001b[0m\u001b[0m\n\u001b[1;32m---> 19\u001b[1;33m     \u001b[1;32mreturn\u001b[0m  \u001b[0mdata\u001b[0m\u001b[1;33m\u001b[0m\u001b[1;33m\u001b[0m\u001b[0m\n\u001b[0m",
      "\u001b[1;31mUnboundLocalError\u001b[0m: local variable 'data' referenced before assignment"
     ]
    }
   ],
   "source": [
    "name = \"aspirin\"\n",
    "get_pubchem_cid_name(name)"
   ]
  },
  {
   "cell_type": "code",
   "execution_count": 28,
   "id": "f1db90e2",
   "metadata": {},
   "outputs": [
    {
     "data": {
      "text/html": [
       "<div>\n",
       "<style scoped>\n",
       "    .dataframe tbody tr th:only-of-type {\n",
       "        vertical-align: middle;\n",
       "    }\n",
       "\n",
       "    .dataframe tbody tr th {\n",
       "        vertical-align: top;\n",
       "    }\n",
       "\n",
       "    .dataframe thead th {\n",
       "        text-align: right;\n",
       "    }\n",
       "</style>\n",
       "<table border=\"1\" class=\"dataframe\">\n",
       "  <thead>\n",
       "    <tr style=\"text-align: right;\">\n",
       "      <th></th>\n",
       "      <th>cid</th>\n",
       "    </tr>\n",
       "  </thead>\n",
       "  <tbody>\n",
       "    <tr>\n",
       "      <th>0</th>\n",
       "      <td>2244</td>\n",
       "    </tr>\n",
       "  </tbody>\n",
       "</table>\n",
       "</div>"
      ],
      "text/plain": [
       "    cid\n",
       "0  2244"
      ]
     },
     "execution_count": 28,
     "metadata": {},
     "output_type": "execute_result"
    }
   ],
   "source": [
    "name = \"aspirin\"\n",
    "url = 'https://pubchem.ncbi.nlm.nih.gov/rest/pug/compound/name/{}/cids/json'.format( name )\n",
    "json_pubchem = requests.get(url, timeout=120).json()\n",
    "cid = {\"cid\":[json_pubchem['IdentifierList'][\"CID\"][0]]}\n",
    "data = pd.DataFrame(cid)\n",
    "data"
   ]
  },
  {
   "cell_type": "code",
   "execution_count": 27,
   "id": "39ba4f07",
   "metadata": {},
   "outputs": [
    {
     "data": {
      "text/plain": [
       "dict"
      ]
     },
     "execution_count": 27,
     "metadata": {},
     "output_type": "execute_result"
    }
   ],
   "source": [
    "type(cid)"
   ]
  },
  {
   "cell_type": "code",
   "execution_count": 29,
   "id": "01b25dfc",
   "metadata": {},
   "outputs": [],
   "source": [
    "def get_pubchem_cid(name):\n",
    "    url = 'https://pubchem.ncbi.nlm.nih.gov/rest/pug/compound/name/{}/cids/json'.format( name )\n",
    "    json_pubchem = requests.get(url, timeout=120).json()\n",
    "    if \"IdentifierList\" in json_pubchem:\n",
    "        cid = {\"cid\":[json_pubchem['IdentifierList'][\"CID\"][0]]}\n",
    "        data = pd.DataFrame(cid)\n",
    "    else:\n",
    "        data = pd.DataFrame({'cid' : []})\n",
    "        data['cid'] = '' \n",
    "    return data"
   ]
  },
  {
   "cell_type": "code",
   "execution_count": null,
   "id": "81787cd8",
   "metadata": {},
   "outputs": [],
   "source": []
  }
 ],
 "metadata": {
  "kernelspec": {
   "display_name": "Python 3",
   "language": "python",
   "name": "python3"
  },
  "language_info": {
   "codemirror_mode": {
    "name": "ipython",
    "version": 3
   },
   "file_extension": ".py",
   "mimetype": "text/x-python",
   "name": "python",
   "nbconvert_exporter": "python",
   "pygments_lexer": "ipython3",
   "version": "3.9.7"
  }
 },
 "nbformat": 4,
 "nbformat_minor": 5
}
