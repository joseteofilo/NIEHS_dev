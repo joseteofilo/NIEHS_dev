{
 "cells": [
  {
   "cell_type": "markdown",
   "id": "de01a01f",
   "metadata": {},
   "source": [
    "# Pubchem"
   ]
  },
  {
   "cell_type": "code",
   "execution_count": null,
   "id": "c1ff0420",
   "metadata": {},
   "outputs": [],
   "source": [
    "import time\n",
    "import requests\n",
    "import pandas as pd\n",
    "from rdkit import Chem\n",
    "impot numpy as np"
   ]
  },
  {
   "cell_type": "markdown",
   "id": "ecb80abe",
   "metadata": {},
   "source": [
    "## Try 1"
   ]
  },
  {
   "cell_type": "code",
   "execution_count": 29,
   "id": "01b25dfc",
   "metadata": {},
   "outputs": [],
   "source": [
    "def get_pubchem_cid(name):\n",
    "    url = 'https://pubchem.ncbi.nlm.nih.gov/rest/pug/compound/name/{}/cids/json'.format( name )\n",
    "    json_pubchem = requests.get(url, timeout=120).json()\n",
    "    if \"IdentifierList\" in json_pubchem:\n",
    "        cid = {\"cid\":[json_pubchem['IdentifierList'][\"CID\"][0]]}\n",
    "        data = pd.DataFrame(cid)\n",
    "    else:\n",
    "        data = pd.DataFrame({'cid' : []})\n",
    "        data['cid'] = '' \n",
    "    return data"
   ]
  },
  {
   "cell_type": "code",
   "execution_count": 52,
   "id": "81787cd8",
   "metadata": {},
   "outputs": [],
   "source": [
    "#name_list = pd.read_csv(\"data.csv\")\n",
    "#name_list = name_list['Name']\n",
    "name_list = [\"aspirin\", \"asdf\"]\n",
    "list_cids = []\n",
    "for name in name_list:\n",
    "    data = get_pubchem_cid(name)\n",
    "    list_cids.append( data.cid )"
   ]
  },
  {
   "cell_type": "code",
   "execution_count": 53,
   "id": "fc3cb231",
   "metadata": {},
   "outputs": [],
   "source": [
    "data['test'] = list_cids"
   ]
  },
  {
   "cell_type": "markdown",
   "id": "4a03dfd0",
   "metadata": {},
   "source": [
    "## Try 2 - correct"
   ]
  },
  {
   "cell_type": "code",
   "execution_count": 68,
   "id": "d7cc75bd",
   "metadata": {},
   "outputs": [],
   "source": [
    "def get_pubchem_cid(name):\n",
    "    url = 'https://pubchem.ncbi.nlm.nih.gov/rest/pug/compound/name/{}/cids/json'.format( name )\n",
    "    json_pubchem = requests.get(url, timeout=120).json()\n",
    "    if \"IdentifierList\" in json_pubchem:\n",
    "        cid = json_pubchem['IdentifierList'][\"CID\"][0]\n",
    "    else:\n",
    "        cid = np.nan \n",
    "    return cid"
   ]
  },
  {
   "cell_type": "code",
   "execution_count": 73,
   "id": "b2d84b2c",
   "metadata": {},
   "outputs": [],
   "source": [
    "name_list = [\"aspirin\", \"asdf\", \"1-BROMO-2-FLUORO-4-PROPYLBENZENE\", \"4-NONYL-N-[4-(4-NONYLBENZAMIDO)-9,10-DIOXO-9,10-DIHYDROANTHRACEN-1-YL]BENZAMIDE\"]\n",
    "list_cids = []\n",
    "for name in name_list:\n",
    "    data = get_pubchem_cid(name)\n",
    "    list_cids.append( data )"
   ]
  },
  {
   "cell_type": "code",
   "execution_count": 74,
   "id": "3be3584f",
   "metadata": {},
   "outputs": [],
   "source": [
    "data = pd.DataFrame(list_cids, columns=[\"cid\"])"
   ]
  },
  {
   "cell_type": "markdown",
   "id": "f87e5f05",
   "metadata": {},
   "source": [
    "From csv"
   ]
  },
  {
   "cell_type": "code",
   "execution_count": 82,
   "id": "af47131a",
   "metadata": {},
   "outputs": [],
   "source": [
    "df = pd.read_csv(\"data.csv\")\n",
    "name_list = df[\"Name\"]"
   ]
  },
  {
   "cell_type": "code",
   "execution_count": 80,
   "id": "c356505d",
   "metadata": {},
   "outputs": [],
   "source": [
    "list_cids = []\n",
    "for name in name_list:\n",
    "    data = get_pubchem_cid(name)\n",
    "    list_cids.append( data )"
   ]
  },
  {
   "cell_type": "code",
   "execution_count": 81,
   "id": "457d540c",
   "metadata": {},
   "outputs": [
    {
     "data": {
      "text/html": [
       "<div>\n",
       "<style scoped>\n",
       "    .dataframe tbody tr th:only-of-type {\n",
       "        vertical-align: middle;\n",
       "    }\n",
       "\n",
       "    .dataframe tbody tr th {\n",
       "        vertical-align: top;\n",
       "    }\n",
       "\n",
       "    .dataframe thead th {\n",
       "        text-align: right;\n",
       "    }\n",
       "</style>\n",
       "<table border=\"1\" class=\"dataframe\">\n",
       "  <thead>\n",
       "    <tr style=\"text-align: right;\">\n",
       "      <th></th>\n",
       "      <th>cid</th>\n",
       "    </tr>\n",
       "  </thead>\n",
       "  <tbody>\n",
       "    <tr>\n",
       "      <th>0</th>\n",
       "      <td>4286314</td>\n",
       "    </tr>\n",
       "    <tr>\n",
       "      <th>1</th>\n",
       "      <td></td>\n",
       "    </tr>\n",
       "    <tr>\n",
       "      <th>2</th>\n",
       "      <td>7113</td>\n",
       "    </tr>\n",
       "    <tr>\n",
       "      <th>3</th>\n",
       "      <td></td>\n",
       "    </tr>\n",
       "    <tr>\n",
       "      <th>4</th>\n",
       "      <td>100122</td>\n",
       "    </tr>\n",
       "    <tr>\n",
       "      <th>5</th>\n",
       "      <td></td>\n",
       "    </tr>\n",
       "    <tr>\n",
       "      <th>6</th>\n",
       "      <td>3976437</td>\n",
       "    </tr>\n",
       "    <tr>\n",
       "      <th>7</th>\n",
       "      <td></td>\n",
       "    </tr>\n",
       "    <tr>\n",
       "      <th>8</th>\n",
       "      <td></td>\n",
       "    </tr>\n",
       "    <tr>\n",
       "      <th>9</th>\n",
       "      <td>2063335</td>\n",
       "    </tr>\n",
       "    <tr>\n",
       "      <th>10</th>\n",
       "      <td></td>\n",
       "    </tr>\n",
       "    <tr>\n",
       "      <th>11</th>\n",
       "      <td></td>\n",
       "    </tr>\n",
       "    <tr>\n",
       "      <th>12</th>\n",
       "      <td>1995</td>\n",
       "    </tr>\n",
       "    <tr>\n",
       "      <th>13</th>\n",
       "      <td></td>\n",
       "    </tr>\n",
       "    <tr>\n",
       "      <th>14</th>\n",
       "      <td></td>\n",
       "    </tr>\n",
       "    <tr>\n",
       "      <th>15</th>\n",
       "      <td></td>\n",
       "    </tr>\n",
       "    <tr>\n",
       "      <th>16</th>\n",
       "      <td></td>\n",
       "    </tr>\n",
       "    <tr>\n",
       "      <th>17</th>\n",
       "      <td>3877121</td>\n",
       "    </tr>\n",
       "    <tr>\n",
       "      <th>18</th>\n",
       "      <td></td>\n",
       "    </tr>\n",
       "    <tr>\n",
       "      <th>19</th>\n",
       "      <td></td>\n",
       "    </tr>\n",
       "    <tr>\n",
       "      <th>20</th>\n",
       "      <td></td>\n",
       "    </tr>\n",
       "    <tr>\n",
       "      <th>21</th>\n",
       "      <td></td>\n",
       "    </tr>\n",
       "    <tr>\n",
       "      <th>22</th>\n",
       "      <td></td>\n",
       "    </tr>\n",
       "    <tr>\n",
       "      <th>23</th>\n",
       "      <td></td>\n",
       "    </tr>\n",
       "    <tr>\n",
       "      <th>24</th>\n",
       "      <td></td>\n",
       "    </tr>\n",
       "    <tr>\n",
       "      <th>25</th>\n",
       "      <td></td>\n",
       "    </tr>\n",
       "    <tr>\n",
       "      <th>26</th>\n",
       "      <td></td>\n",
       "    </tr>\n",
       "    <tr>\n",
       "      <th>27</th>\n",
       "      <td></td>\n",
       "    </tr>\n",
       "    <tr>\n",
       "      <th>28</th>\n",
       "      <td></td>\n",
       "    </tr>\n",
       "    <tr>\n",
       "      <th>29</th>\n",
       "      <td></td>\n",
       "    </tr>\n",
       "    <tr>\n",
       "      <th>30</th>\n",
       "      <td>18558534</td>\n",
       "    </tr>\n",
       "    <tr>\n",
       "      <th>31</th>\n",
       "      <td></td>\n",
       "    </tr>\n",
       "    <tr>\n",
       "      <th>32</th>\n",
       "      <td>17220178</td>\n",
       "    </tr>\n",
       "    <tr>\n",
       "      <th>33</th>\n",
       "      <td>721087</td>\n",
       "    </tr>\n",
       "    <tr>\n",
       "      <th>34</th>\n",
       "      <td></td>\n",
       "    </tr>\n",
       "    <tr>\n",
       "      <th>35</th>\n",
       "      <td></td>\n",
       "    </tr>\n",
       "    <tr>\n",
       "      <th>36</th>\n",
       "      <td></td>\n",
       "    </tr>\n",
       "    <tr>\n",
       "      <th>37</th>\n",
       "      <td>759394</td>\n",
       "    </tr>\n",
       "    <tr>\n",
       "      <th>38</th>\n",
       "      <td></td>\n",
       "    </tr>\n",
       "    <tr>\n",
       "      <th>39</th>\n",
       "      <td></td>\n",
       "    </tr>\n",
       "  </tbody>\n",
       "</table>\n",
       "</div>"
      ],
      "text/plain": [
       "         cid\n",
       "0    4286314\n",
       "1           \n",
       "2       7113\n",
       "3           \n",
       "4     100122\n",
       "5           \n",
       "6    3976437\n",
       "7           \n",
       "8           \n",
       "9    2063335\n",
       "10          \n",
       "11          \n",
       "12      1995\n",
       "13          \n",
       "14          \n",
       "15          \n",
       "16          \n",
       "17   3877121\n",
       "18          \n",
       "19          \n",
       "20          \n",
       "21          \n",
       "22          \n",
       "23          \n",
       "24          \n",
       "25          \n",
       "26          \n",
       "27          \n",
       "28          \n",
       "29          \n",
       "30  18558534\n",
       "31          \n",
       "32  17220178\n",
       "33    721087\n",
       "34          \n",
       "35          \n",
       "36          \n",
       "37    759394\n",
       "38          \n",
       "39          "
      ]
     },
     "execution_count": 81,
     "metadata": {},
     "output_type": "execute_result"
    }
   ],
   "source": [
    "data = pd.DataFrame(list_cids, columns=[\"cid\"])\n",
    "data"
   ]
  },
  {
   "cell_type": "markdown",
   "id": "51825a11",
   "metadata": {},
   "source": [
    "# Chembl"
   ]
  },
  {
   "cell_type": "code",
   "execution_count": null,
   "id": "d078bef0",
   "metadata": {},
   "outputs": [],
   "source": [
    "# Needs installation of\n",
    "#!pip install chembl_webresource_client"
   ]
  },
  {
   "cell_type": "markdown",
   "id": "efe56142",
   "metadata": {},
   "source": [
    "Pref_name"
   ]
  },
  {
   "cell_type": "code",
   "execution_count": 99,
   "id": "d09ce06f",
   "metadata": {},
   "outputs": [
    {
     "data": {
      "text/plain": [
       "[{'molecule_chembl_id': 'CHEMBL25'}]"
      ]
     },
     "execution_count": 99,
     "metadata": {},
     "output_type": "execute_result"
    }
   ],
   "source": [
    "from chembl_webresource_client.new_client import new_client\n",
    "\n",
    "molecule = new_client.molecule\n",
    "mols = molecule.filter(pref_name__iexact='aspirin').only('molecule_chembl_id')\n",
    "mols"
   ]
  },
  {
   "cell_type": "markdown",
   "id": "b02ee776",
   "metadata": {},
   "source": [
    "## Try 1"
   ]
  },
  {
   "cell_type": "code",
   "execution_count": 193,
   "id": "9c4c26d7",
   "metadata": {},
   "outputs": [],
   "source": [
    "def get_chembl_id(name):\n",
    "    molecule = new_client.molecule\n",
    "    mols = molecule.filter(pref_name__iexact=name).only('molecule_chembl_id')\n",
    "    return mols\n"
   ]
  },
  {
   "cell_type": "code",
   "execution_count": 194,
   "id": "36d8d428",
   "metadata": {},
   "outputs": [],
   "source": [
    "name_list = [\"aspirin\", \"asdf\", \"1-BROMO-2-FLUORO-4-PROPYLBENZENE\", \"4-NONYL-N-[4-(4-NONYLBENZAMIDO)-9,10-DIOXO-9,10-DIHYDROANTHRACEN-1-YL]BENZAMIDE\"]\n",
    "list_cids = []\n",
    "for name in name_list:\n",
    "    data = get_chembl_id(name)\n",
    "    list_cids.append( data )"
   ]
  },
  {
   "cell_type": "code",
   "execution_count": 195,
   "id": "fe507b80",
   "metadata": {},
   "outputs": [
    {
     "data": {
      "text/plain": [
       "[[{'molecule_chembl_id': 'CHEMBL25'}], [], [], []]"
      ]
     },
     "execution_count": 195,
     "metadata": {},
     "output_type": "execute_result"
    }
   ],
   "source": [
    "list_cids"
   ]
  },
  {
   "cell_type": "code",
   "execution_count": 196,
   "id": "f5c09820",
   "metadata": {},
   "outputs": [],
   "source": [
    "import numpy as np\n",
    "mols = []\n",
    "for mol in list_cids:\n",
    "    if not mol:\n",
    "        mols.append(np.nan)\n",
    "    else:\n",
    "        for id in mol:\n",
    "            for item in id:\n",
    "                mols.append(id[item])"
   ]
  },
  {
   "cell_type": "code",
   "execution_count": 197,
   "id": "3b38595d",
   "metadata": {},
   "outputs": [
    {
     "data": {
      "text/html": [
       "<div>\n",
       "<style scoped>\n",
       "    .dataframe tbody tr th:only-of-type {\n",
       "        vertical-align: middle;\n",
       "    }\n",
       "\n",
       "    .dataframe tbody tr th {\n",
       "        vertical-align: top;\n",
       "    }\n",
       "\n",
       "    .dataframe thead th {\n",
       "        text-align: right;\n",
       "    }\n",
       "</style>\n",
       "<table border=\"1\" class=\"dataframe\">\n",
       "  <thead>\n",
       "    <tr style=\"text-align: right;\">\n",
       "      <th></th>\n",
       "      <th>chembl_id</th>\n",
       "    </tr>\n",
       "  </thead>\n",
       "  <tbody>\n",
       "    <tr>\n",
       "      <th>0</th>\n",
       "      <td>CHEMBL25</td>\n",
       "    </tr>\n",
       "    <tr>\n",
       "      <th>1</th>\n",
       "      <td>NaN</td>\n",
       "    </tr>\n",
       "    <tr>\n",
       "      <th>2</th>\n",
       "      <td>NaN</td>\n",
       "    </tr>\n",
       "    <tr>\n",
       "      <th>3</th>\n",
       "      <td>NaN</td>\n",
       "    </tr>\n",
       "  </tbody>\n",
       "</table>\n",
       "</div>"
      ],
      "text/plain": [
       "  chembl_id\n",
       "0  CHEMBL25\n",
       "1       NaN\n",
       "2       NaN\n",
       "3       NaN"
      ]
     },
     "execution_count": 197,
     "metadata": {},
     "output_type": "execute_result"
    }
   ],
   "source": [
    "chembl_ids = pd.DataFrame(mols,columns=[\"chembl_id\"])\n",
    "chembl_ids"
   ]
  },
  {
   "cell_type": "code",
   "execution_count": null,
   "id": "cae1a209",
   "metadata": {},
   "outputs": [],
   "source": []
  }
 ],
 "metadata": {
  "kernelspec": {
   "display_name": "Python 3",
   "language": "python",
   "name": "python3"
  },
  "language_info": {
   "codemirror_mode": {
    "name": "ipython",
    "version": 3
   },
   "file_extension": ".py",
   "mimetype": "text/x-python",
   "name": "python",
   "nbconvert_exporter": "python",
   "pygments_lexer": "ipython3",
   "version": "3.9.7"
  }
 },
 "nbformat": 4,
 "nbformat_minor": 5
}
